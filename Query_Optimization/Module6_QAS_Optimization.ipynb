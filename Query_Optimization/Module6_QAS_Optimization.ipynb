{
 "metadata": {
  "kernelspec": {
   "display_name": "Streamlit Notebook",
   "name": "streamlit"
  },
  "lastEditStatus": {
   "notebookId": "3vg7jakkty7bspe2ftnq",
   "authorId": "3160925466551",
   "authorName": "USER",
   "authorEmail": "",
   "sessionId": "1a52dfe9-b8a0-4f9f-9fc0-bcbc7beba3ec",
   "lastEditTime": 1748377419455
  }
 },
 "nbformat_minor": 5,
 "nbformat": 4,
 "cells": [
  {
   "cell_type": "markdown",
   "id": "ac26c734-58bd-4054-9600-717387c6e60a",
   "metadata": {
    "collapsed": false,
    "name": "cell1"
   },
   "source": [
    "## Module 6. Query Acceleration Service for Performance Tuning\n",
    "\n",
    "Module 6 is to explore how SOS can improve a query’s performance. \n",
    "\n",
    "### 6.1 Identify QAS Candidates & Data Preparation\n",
    "\n",
    "In this step, we will explore when Query Acceleration Servie can improve query performance.\n",
    "\n",
    "First, let's identify eligible candidates of QAS. You can run the following query from account_usage views:\n",
    "\n",
    "```sql\n",
    "SELECT \n",
    "    query_id, \n",
    "    eligible_query_acceleration_time\n",
    "FROM SNOWFLAKE.ACCOUNT_USAGE.QUERY_ACCELERATION_ELIGIBLE\n",
    "WHERE\n",
    "    start_time > DATEADD('day', -7, CURRENT_TIMESTAMP())\n",
    "ORDER BY eligible_query_acceleration_time DESC;\n",
    "```\n",
    "\n",
    "However there might be up to 24 hours latency for account_usage view QUERY_ACCELERATION_ELIGIBLE, which is not practical for our 90-Mins HOL. So we have developed an SP using the system function SYSTEM\\$ESTIMATE_QUERY_ACCELERATION from information schema since SYSTEM\\$ESTIMATE_QUERY_ACCELERATION only supports a single query ID. As you may know, information schema is available immediately with real-time or near real-time availability. \n",
    "\n",
    "Below is the SP's definition."
   ]
  },
  {
   "cell_type": "code",
   "execution_count": null,
   "id": "8d50cbf4-0c8d-4950-86cb-114990437ac9",
   "metadata": {
    "language": "sql",
    "name": "cell2"
   },
   "outputs": [],
   "source": [
    "alter session set use_cached_result = false; \n",
    "use schema sql_perf_optimization.public;\n",
    "use warehouse WH_SUMMIT25_PERF_OPS; -- for operations & analysis\n",
    "\n",
    "CREATE OR REPLACE  PROCEDURE qas_eligibilty (WH_NAME VARCHAR)\n",
    "RETURNS TEXT\n",
    "LANGUAGE JAVASCRIPT\n",
    "EXECUTE AS CALLER\n",
    "AS \n",
    "$$    \n",
    "    // Get all query IDs using CTE    \n",
    "    var query_ids_sql = `\n",
    "        SELECT\n",
    "            DISTINCT query_id, warehouse_name       \n",
    "        FROM TABLE(\n",
    "            INFORMATION_SCHEMA.QUERY_HISTORY_BY_WAREHOUSE(\n",
    "                WAREHOUSE_NAME => '${WH_NAME}', \n",
    "                RESULT_LIMIT => 10000\n",
    "            )\n",
    "        )\n",
    "        WHERE query_type = 'SELECT'\n",
    "        AND query_text ilike '%BASE WORKLOAD QUERY%'\n",
    "    `;\n",
    "    var query_ids_stmt = snowflake.createStatement({        \n",
    "        sqlText: query_ids_sql,\n",
    "        binds: [ WH_NAME ]\n",
    "    });        \n",
    "    var query_ids_result = query_ids_stmt.execute();    \n",
    "\n",
    "    var eligible_queries = {};\n",
    "    while (query_ids_result.next()) {        \n",
    "        var current_query_id = query_ids_result.getColumnValueAsString(1);\n",
    "\n",
    "        var qas_eligible_query = `\n",
    "            with qas_json as (\n",
    "                select PARSE_JSON(\n",
    "                    SYSTEM$ESTIMATE_QUERY_ACCELERATION(\n",
    "                        '${current_query_id}'\n",
    "                    )\n",
    "                ) v\n",
    "            )\n",
    "            select \n",
    "                v:status::string status,\n",
    "                v:queryUUID::string query_id\n",
    "            from qas_json\n",
    "            where\n",
    "                status in ('eligible','accelerated')\n",
    "        `;\n",
    "        var qas_stmt = snowflake.createStatement({                \n",
    "            sqlText: qas_eligible_query \n",
    "        });                        \n",
    "        var eligible_result = qas_stmt.execute(); \n",
    "    \n",
    "        if (eligible_result.next()) {\n",
    "            eligible_queries[current_query_id] = eligible_result.getColumnValueAsString(1);\n",
    "        }\n",
    "        \n",
    "    }\n",
    "\n",
    "    return JSON.stringify(eligible_queries);\n",
    "$$;"
   ]
  },
  {
   "cell_type": "markdown",
   "id": "7221315d-6636-4f1e-9b5e-ac1edd35814d",
   "metadata": {
    "name": "cell5"
   },
   "source": [
    "Now we can just call it."
   ]
  },
  {
   "cell_type": "code",
   "execution_count": null,
   "id": "cf45a831-23d4-428c-9f26-faa4c1caab29",
   "metadata": {
    "codeCollapsed": false,
    "collapsed": false,
    "language": "sql",
    "name": "cell3"
   },
   "outputs": [],
   "source": [
    "CALL qas_eligibilty('WH_SUMMIT25_PERF_BASE');"
   ]
  },
  {
   "cell_type": "markdown",
   "id": "f39b563c-e37a-4f58-8a11-ad2ce16500b4",
   "metadata": {
    "collapsed": false,
    "name": "cell4"
   },
   "source": [
    "There is no query returned. So no eligible queries from our base reporting workloads. Now if you recall what kinds of queries can benefit from QAS, the number one criteria is that the table needs to be big enough, for example, 100+GB. Since our biggest table Traffic only has ~17GB, we need to increase the size.\n",
    "\n",
    "To save some time, we have prepared this table `TRAFFIC_LARGE` with >100GB in size for this purpose. This simulates a scenario where QAS is beneficial."
   ]
  },
  {
   "cell_type": "code",
   "execution_count": null,
   "id": "eeb5b843-c1cc-4916-9fc9-c33c0689464b",
   "metadata": {
    "language": "sql",
    "name": "cell6"
   },
   "outputs": [],
   "source": [
    "SHOW TABLES LIKE 'TRAFFIC_LARGE';"
   ]
  },
  {
   "cell_type": "markdown",
   "id": "981b5b91-a6e7-452c-8c1a-a9db6deddc69",
   "metadata": {
    "collapsed": false,
    "name": "cell7"
   },
   "source": [
    "Identify queries with heavy table scans (e.g., full TableScan) and their output has a large number of rows as well."
   ]
  },
  {
   "cell_type": "code",
   "execution_count": null,
   "id": "fdc0431f-4416-431e-9b87-ba3326e00225",
   "metadata": {
    "language": "sql",
    "name": "cell8"
   },
   "outputs": [],
   "source": [
    "-- large tableScan and output is big \n",
    "select \n",
    "    query_id,\n",
    "    query_tag,\n",
    "    operator_type,\n",
    "    operator_statistics:pruning:partitions_scanned as mp_scanned,\n",
    "    operator_statistics:pruning:partitions_total as mp_total,\n",
    "    operator_statistics:output_rows as output_rows\n",
    "from base_query_stats\n",
    "where \n",
    "    mp_total is not null\n",
    "    and query_tag ilike '%BASE WORKLOAD QUERY%'\n",
    "    and operator_type = 'TableScan'\n",
    "order by output_rows desc, mp_total desc;"
   ]
  },
  {
   "cell_type": "markdown",
   "id": "449c7245-73af-499e-b1ee-4f8f912b2ed8",
   "metadata": {
    "collapsed": false,
    "name": "cell9"
   },
   "source": [
    "Choose the top 3 queries and test them with QAS. We are going to test on Query 08 (from the original Base Queries that we ran in Module2 Part1) since it takes quite sometime to run query 04. Replace table `TRAFFIC` with `TRAFFIC_LARGE` in the query and we need to rerun this query as baseline against `TRAFFIC_LARGE` table. \n",
    "\n",
    "Change the query comment reference to “Query 08 - QAS” (verse to the original Query 08) for reporting purposes."
   ]
  },
  {
   "cell_type": "code",
   "execution_count": null,
   "id": "22e79b94-23bd-49a6-b19e-bbfa7b01499a",
   "metadata": {
    "language": "sql",
    "name": "cell10"
   },
   "outputs": [],
   "source": "USE WAREHOUSE WH_SUMMIT25_PERF_BASE;\n\n-- Q08 - QAS: Analyzes yearly traffic hits by category \nSELECT   -- BASE WORKLOAD QUERY - 08 - QAS\n  DATE_PART (YEAR, t.timestamp) AS Year,\n  c.id AS Category_ID,\n  c.name AS Category_Name,\n  SUM(COUNT(*)) OVER (\n    PARTITION BY DATE_PART (YEAR, t.timestamp),\n    c.id\n  ) AS Total_Hits\nFROM\n  traffic_large AS t,\n  category AS c\nWHERE\n  t.category_id = c.id\n  AND t.timestamp >= DATEADD (YEAR, -5, CURRENT_TIMESTAMP())\n  AND MONTH (t.timestamp) = 12\nGROUP BY\n  DATE_PART (YEAR, t.timestamp),\n  c.name,\n  c.id\nORDER BY\n  1,\n  4,\n  2\nLIMIT\n  200;"
  },
  {
   "cell_type": "markdown",
   "id": "4c2a6288-a872-408b-bc83-cfd4882466a9",
   "metadata": {
    "name": "cell11"
   },
   "source": [
    "Now run our SP again, it should report that the one of the queries is now eligible for QAS, which is the query above."
   ]
  },
  {
   "cell_type": "code",
   "execution_count": null,
   "id": "74e1df29-21e7-47eb-abc3-fa718fcb39be",
   "metadata": {
    "language": "sql",
    "name": "cell12"
   },
   "outputs": [],
   "source": [
    "CALL qas_eligibilty('WH_SUMMIT25_PERF_BASE');"
   ]
  },
  {
   "cell_type": "markdown",
   "id": "00b2ee13-7921-4e11-9204-f3d7fdce9e88",
   "metadata": {
    "name": "cell13"
   },
   "source": [
    "Copy the query_id value from the result above and replace in the <query_id> placeholder below."
   ]
  },
  {
   "cell_type": "code",
   "execution_count": null,
   "id": "d89899ba-3b2d-4243-9b69-c80ec90064bd",
   "metadata": {
    "language": "sql",
    "name": "cell14"
   },
   "outputs": [],
   "source": "-- directly run on the query ID, replace <query_ID> with the above query ID. \n-- Find query ID from query history and Replace <query_ID> with the acutal query ID, \n-- such as select SYSTEM$ESTIMATE_QUERY_ACCELERATION('01bc5406-0105-4191-0005-e2d7002672b2');\nselect SYSTEM$ESTIMATE_QUERY_ACCELERATION('<query_id>'); "
  },
  {
   "cell_type": "markdown",
   "id": "5104bed3-16c0-4a90-b6a5-3e376d466caf",
   "metadata": {
    "collapsed": false,
    "name": "cell15"
   },
   "source": [
    "### 6.2 Enable QAS\n",
    "\n",
    "Enabling QAS in the new warehouse WH_SUMMIT25_PERF_QAS, we can rerun the query in WH_SUMMIT25_PERF_QAS and compare the performance."
   ]
  },
  {
   "cell_type": "code",
   "execution_count": null,
   "id": "f1dd20d3-7610-4e7d-8772-aca8199e50cf",
   "metadata": {
    "language": "sql",
    "name": "cell16"
   },
   "outputs": [],
   "source": [
    "-- Enable query acceleration service on warehouse WH_SUMMIT25_PERF_QAS\n",
    "-- We use WH_SUMMIT25_PERF_OPS (Large warehouse) so that it can be faster\n",
    "USE WAREHOUSE WH_SUMMIT25_PERF_OPS;\n",
    "\n",
    "ALTER WAREHOUSE WH_SUMMIT25_PERF_QAS\n",
    "    SET ENABLE_QUERY_ACCELERATION = true,\n",
    "        QUERY_ACCELERATION_MAX_SCALE_FACTOR = 64;"
   ]
  },
  {
   "cell_type": "markdown",
   "id": "8668a6e6-a5f1-48bf-ad9c-3ebf8afb8b17",
   "metadata": {
    "collapsed": false,
    "name": "cell17"
   },
   "source": [
    "Validate that the \"ENABLE_QUERY_ACCELERATION\" column is \"true\" using the SHOW command."
   ]
  },
  {
   "cell_type": "code",
   "execution_count": null,
   "id": "81e477b8-236f-41ec-bcc0-9eb6e210443d",
   "metadata": {
    "language": "sql",
    "name": "cell18"
   },
   "outputs": [],
   "source": [
    "SHOW WAREHOUSES LIKE 'WH_SUMMIT25_PERF_QAS';"
   ]
  },
  {
   "cell_type": "markdown",
   "id": "a34bfb55-e480-4da7-b74e-149d928b9b8f",
   "metadata": {
    "name": "cell19"
   },
   "source": [
    "Screenshot is provided in the quickstart guide under the same section."
   ]
  },
  {
   "cell_type": "markdown",
   "id": "eca81a51-c5a6-455b-9fc9-f2a114fa55f0",
   "metadata": {
    "collapsed": false,
    "name": "cell20"
   },
   "source": [
    "### 6.3 Rerun Query and Validate\n",
    "\n",
    "We need to warm the new warehouse WH_SUMMIT25_PERF_QAS first by running query 01 and 02 similar to base workload on WH_SUMMIT25_PERF_BASE.\n",
    "\n",
    "Since the QAS is enabled, we can rerun the \"Query 08 - QAS\" that we mentioned above."
   ]
  },
  {
   "cell_type": "code",
   "execution_count": null,
   "id": "970aebed-cf3a-4e31-818a-18d39429d321",
   "metadata": {
    "language": "sql",
    "name": "cell21"
   },
   "outputs": [],
   "source": "use warehouse WH_SUMMIT25_PERF_QAS;\n\n-- rerun query 01 and 02 to warm the new warehouse WH_SUMMIT25_PERF_QAS \nwith age_20_to_30 as ( -- BASE WORKLOAD QUERY - 01\n    select distinct uuid\n    from user_profile\n    where question_id = 3 -- DOB question\n        and value::date between dateadd(year, -30, current_date) \n            and dateadd(year, -20, current_date)\n),\ngender_male as (\n    select distinct uuid\n    from user_profile\n    where question_id = 4 -- Gender question\n        and value::string = 'M'\n),\nincome_50K_to_100K as (\n    select distinct uuid\n    from user_profile\n    where question_id = 10 -- Income question\n        and value::int between 50000 and 100000\n)\nselect\n    c.name,\n    url,\n    count(1) as visits\nfrom traffic_large t\njoin category c on (\n    c.id = t.category_id\n)\njoin age_20_to_30 a on (\n    a.uuid = t.uuid\n)\njoin gender_male g on (\n    g.uuid = t.uuid\n)\njoin income_50K_to_100K i on (\n    i.uuid = t.uuid\n)\nwhere\n    t.timestamp between '2025-01-01' and '2025-02-01'\ngroup by all\nqualify row_number() over (\n    partition by c.name order by visits desc\n) <= 100\norder by c.name, visits desc;\n\nWITH url_stats AS ( -- BASE WORKLOAD QUERY - 02\n  SELECT\n    c.name AS category_name,\n    t.url,\n    COUNT(DISTINCT t.uuid) AS unique_visitors,\n    COUNT(*) AS total_visits,\n    RANK() OVER (\n      PARTITION BY c.name\n      ORDER BY\n        COUNT(*) DESC\n    ) AS rank_in_category\n  FROM\n    traffic_large AS t\n    JOIN category AS c ON t.category_id = c.id\n  WHERE\n    t.timestamp between '2025-01-01' and '2025-02-01'\n  GROUP BY\n    c.name,\n    t.url\n)\nSELECT\n  category_name,\n  url,\n  unique_visitors,\n  total_visits,\n  rank_in_category\nFROM\n  url_stats\nWHERE\n  rank_in_category <= 10\nORDER BY\n  category_name,\n  rank_in_category;\n  \n--- Q08: Analyzes yearly traffic hits by category \nSELECT   -- BASE WORKLOAD QUERY - 08 - QAS\n  DATE_PART (YEAR, t.timestamp) AS Year,\n  c.id AS Category_ID,\n  c.name AS Category_Name,\n  SUM(COUNT(*)) OVER (\n    PARTITION BY DATE_PART (YEAR, t.timestamp),\n    c.id\n  ) AS Total_Hits\nFROM\n  traffic_large AS t,\n  category AS c\nWHERE\n  t.category_id = c.id\n  AND t.timestamp >= DATEADD (YEAR, -5, CURRENT_TIMESTAMP())\n  AND MONTH (t.timestamp) = 12\nGROUP BY\n  DATE_PART (YEAR, t.timestamp),\n  c.name,\n  c.id\nORDER BY\n  1,\n  4,\n  2\nLIMIT\n  200;"
  },
  {
   "cell_type": "markdown",
   "id": "0c4a8822-476a-4b38-91ee-ec6fc629a7e9",
   "metadata": {
    "collapsed": false,
    "name": "cell22"
   },
   "source": [
    "Check the query profile of above query to validate that QAS is used (you can follow instructions from step 4.3 of the notebook MODULE4_MV_OPTIMIZATION earlier to find the query profile, an example is provided in the quickstart guide), looking for “**partition scanned by service**” on the node TableScan of `TRAFFIC_LARGE` table.\n",
    "\n",
    "Then rerun the eligibility check stored procedure to verify QAS has been applied.\n"
   ]
  },
  {
   "cell_type": "code",
   "execution_count": null,
   "id": "2af1b110-991c-4293-9b2c-729bd5a5cba7",
   "metadata": {
    "language": "sql",
    "name": "cell23"
   },
   "outputs": [],
   "source": [
    "USE WAREHOUSE WH_SUMMIT25_PERF_OPS;\n",
    "\n",
    "CALL qas_eligibilty('WH_SUMMIT25_PERF_QAS');"
   ]
  },
  {
   "cell_type": "markdown",
   "id": "be6dc558-39c7-443f-a6ce-3edb78aa565b",
   "metadata": {
    "collapsed": false,
    "name": "cell24"
   },
   "source": [
    "### 6.4 Compare Performance and cost\n",
    "\n",
    "Compare the performance (execution time and credits) between `WH_SUMMIT25_PERF_BASE` and `WH_SUMMIT25_PERF_QAS`, and examine the QUERY_ACCELERATION_HISTORY view to understand the impact of QAS on cost."
   ]
  },
  {
   "cell_type": "code",
   "execution_count": null,
   "id": "df721140-d75c-421f-9619-1696ffd805b5",
   "metadata": {
    "language": "sql",
    "name": "cell25"
   },
   "outputs": [],
   "source": [
    "-- comparing performance and Cost \n",
    "with query_noqas as (\n",
    "    select \n",
    "        query_id,\n",
    "        total_elapsed_time,\n",
    "        query_parameterized_hash\n",
    "    FROM TABLE(\n",
    "        INFORMATION_SCHEMA.QUERY_HISTORY_BY_WAREHOUSE(\n",
    "            WAREHOUSE_NAME =>'WH_SUMMIT25_PERF_BASE', \n",
    "            RESULT_LIMIT =>10000\n",
    "        )\n",
    "    )   \n",
    "    where execution_time > 0\n",
    "    and query_text ilike '%BASE WORKLOAD QUERY - 08 - QAS%'\n",
    "    and warehouse_name = 'WH_SUMMIT25_PERF_BASE' \n",
    "    and error_code is null \n",
    "    and query_type = 'SELECT'\n",
    "    qualify row_number() over (order by start_time desc) = 1\n",
    "),\n",
    "query_qas as (\n",
    "    select  \n",
    "        query_id,\n",
    "        total_elapsed_time,\n",
    "        query_parameterized_hash\n",
    "    FROM TABLE(\n",
    "        INFORMATION_SCHEMA.QUERY_HISTORY_BY_WAREHOUSE(\n",
    "            WAREHOUSE_NAME =>'WH_SUMMIT25_PERF_QAS', \n",
    "            RESULT_LIMIT =>10000\n",
    "        )\n",
    "    ) \n",
    "    where execution_time > 0\n",
    "    and query_text ilike '%BASE WORKLOAD QUERY - 08 - QAS%'\n",
    "    and warehouse_name = 'WH_SUMMIT25_PERF_QAS'\n",
    "    and error_code is null \n",
    "    and query_type = 'SELECT'\n",
    "    qualify row_number() over (order by start_time desc) = 1\n",
    ")\n",
    "select \n",
    "    qn.total_elapsed_time as noqas_elapsed_time,\n",
    "    qq.total_elapsed_time as qas_elapsed_time,\n",
    "    (noqas_elapsed_time - qas_elapsed_time) / 36000  as simple_saved_credits\n",
    "from query_noqas qn\n",
    "join query_qas qq \n",
    ";"
   ]
  },
  {
   "cell_type": "code",
   "execution_count": null,
   "id": "afed01a3-9915-48c4-bdca-f8b83c16c462",
   "metadata": {
    "language": "sql",
    "name": "cell26"
   },
   "outputs": [],
   "source": [
    "-- lastly, You can compare cost of QAS from informatiom_schema function as below. It may return nothing if the cost is too small (ie. less than 0.001)\n",
    "-- QUERY_ACCELERATION_HISTORY funciton in information schema\n",
    "select \n",
    "    credits_used\n",
    "from table(\n",
    "    information_schema.QUERY_ACCELERATION_HISTORY(\n",
    "        date_range_start=>dateadd(D, -7, current_date),\n",
    "        date_range_end=>current_date,\n",
    "        warehouse_name=>'WH_SUMMIT25_PERF_QAS'\n",
    "    )\n",
    ");"
   ]
  }
 ]
}