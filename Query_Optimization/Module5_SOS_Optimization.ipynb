{
 "metadata": {
  "kernelspec": {
   "display_name": "Streamlit Notebook",
   "name": "streamlit"
  },
  "lastEditStatus": {
   "notebookId": "nwswuxndgh2h5tga575n",
   "authorId": "1903818809871",
   "authorName": "USER",
   "authorEmail": "",
   "sessionId": "4eb7f31e-6507-419e-8b35-86578b03ae79",
   "lastEditTime": 1748353675064
  }
 },
 "nbformat_minor": 5,
 "nbformat": 4,
 "cells": [
  {
   "cell_type": "markdown",
   "id": "ac26c734-58bd-4054-9600-717387c6e60a",
   "metadata": {
    "collapsed": false,
    "name": "cell1"
   },
   "source": "## Module 5. Search Optimization Service for Performance Tuning\n\nModule 5 is to explore how SOS can improve a query’s performance.\n\n\n### 5.1 Identify SOS Candidates\n\nIn this step, we will identify Search Optimization Service (SOS) Candidates by analyzing the reporting queries and look for a lookup type of queries where it does big tableScan(i.e., full tableScan) and outputs a few number of rows. \n"
  },
  {
   "cell_type": "code",
   "execution_count": null,
   "id": "8d50cbf4-0c8d-4950-86cb-114990437ac9",
   "metadata": {
    "language": "sql",
    "name": "cell2"
   },
   "outputs": [],
   "source": "alter session set use_cached_result = false; -- disable result caching\nuse schema sql_perf_optimization.public;\nuse warehouse WH_SUMMIT25_PERF_OPS;  -- for operations & analysis\n\n-- lookup tableScan\nselect\n    query_tag,\n    operator_type,\n    operator_statistics:pruning:partitions_scanned as mp_scanned,\n    operator_statistics:pruning:partitions_total as mp_total,\n    operator_statistics:output_rows as output_rows\nfrom base_query_stats\nwhere \n    mp_total is not null\n    and (mp_scanned/mp_total) > 0.8 \n    and query_tag ilike 'BASE WORKLOAD QUERY%'\n    and operator_type = 'TableScan'\norder by mp_total desc, output_rows asc\n  ;"
  },
  {
   "cell_type": "markdown",
   "id": "cf45a831-23d4-428c-9f26-faa4c1caab29",
   "metadata": {
    "collapsed": false,
    "name": "cell3"
   },
   "source": [
    "We can see that query 03 is a good candidate for a lookup query that scans a large number of micro-partitions and only a few rows returned. \n",
    "\n",
    "Let's revisit what query 03 does. \n",
    "\n",
    "```sql\n",
    "WITH user_profile_age as ( -- BASE WORKLOAD QUERY - 03\n",
    "    select \n",
    "        uuid,\n",
    "        timestampdiff(year, value::date, current_date()) as value\n",
    "    from user_profile\n",
    "    where question_id = 3\n",
    "),\n",
    "user_profile_gender as (\n",
    "    select \n",
    "        uuid,\n",
    "        value::string as value\n",
    "    from user_profile\n",
    "    where question_id = 4\n",
    "),\n",
    "user_lookup AS (-- Q03\n",
    "  SELECT\n",
    "    t.uuid,\n",
    "    age.value AS gender,\n",
    "    gender.value AS age,\n",
    "    COUNT(DISTINCT t.url) AS visited_sites,\n",
    "    MIN(t.timestamp) AS first_visit,\n",
    "    MAX(t.timestamp) AS last_visit\n",
    "  FROM\n",
    "    traffic AS t\n",
    "    LEFT JOIN user_profile_age AS age ON t.uuid = age.uuid\n",
    "    LEFT JOIN user_profile_gender AS gender ON t.uuid = gender.uuid\n",
    "  WHERE\n",
    "    t.timestamp between '2025-01-01' and '2025-02-01'\n",
    "  GROUP BY ALL\n",
    ")\n",
    "SELECT\n",
    "  *\n",
    "FROM\n",
    "  user_lookup\n",
    "WHERE\n",
    "  uuid in ('64d91ddc-cad4-4bc3-993e-53f050984738', '2d738ba3-9c32-4fe5-92ba-e8fdb3f2f6e6',\n",
    "  'a628176d-dec0-453d-8f7a-33d4682bd26f','a9adda58-5762-4e1b-85b8-02b4eb5e9970',\n",
    "  '93d96769-4cc8-4521-9cfb-8b81472f70e5','cb4645ef-454c-4af3-9fcd-24c48d4ad0be',\n",
    "  'aabf7d37-51ee-4ce6-abc7-c07c2533a0b7','c75a4784-eddb-4e9c-b3d5-89115855bce9',\n",
    "  '9484fac2-fdf6-4fa7-8084-149ec921f1af','34c8e1e4-d05e-4d71-af07-e53ec3a0d87c',\n",
    "  '6a524226-0c88-4874-bdcf-a489d3b7707b','67617602-28a7-4cc4-802c-a0a871d3a967',\n",
    "  '1da9d743-c674-4dd8-8c41-66b45d877afb','6c0514c7-a44e-4e14-96cd-a5f93bf9f00c'\n",
    "  )\n",
    "ORDER BY\n",
    "  last_visit DESC;\n",
    "```"
   ]
  },
  {
   "cell_type": "markdown",
   "id": "f39b563c-e37a-4f58-8a11-ad2ce16500b4",
   "metadata": {
    "collapsed": false,
    "name": "cell4"
   },
   "source": "### 5.2 Design Search Optimized Object\n\nThe next step is to design a Search-Optimized Object. Let's look at this query. We look for high-cardinality filter columns (e.g., UUID in this query with an IN list), though it needs to have sufficient distinct values, ideally 100K-200K distinct values or more."
  },
  {
   "cell_type": "code",
   "execution_count": null,
   "id": "e7948448-a0ff-4cfe-8658-6b0f8d7214f5",
   "metadata": {
    "language": "sql",
    "name": "cell5"
   },
   "outputs": [],
   "source": "select \n    approx_count_distinct(uuid)\nfrom traffic \n; -- 8809584, more than 200K "
  },
  {
   "cell_type": "markdown",
   "id": "eeb5b843-c1cc-4916-9fc9-c33c0689464b",
   "metadata": {
    "collapsed": false,
    "name": "cell6"
   },
   "source": [
    "UUID does qualify for SOS. Now we can create a search optimization object on UUID."
   ]
  },
  {
   "cell_type": "code",
   "execution_count": null,
   "id": "981b5b91-a6e7-452c-8c1a-a9db6deddc69",
   "metadata": {
    "codeCollapsed": false,
    "collapsed": false,
    "language": "sql",
    "name": "cell7"
   },
   "outputs": [],
   "source": "ALTER TABLE traffic ADD SEARCH OPTIMIZATION ON EQUALITY(uuid);"
  },
  {
   "cell_type": "code",
   "id": "021f089b-c7b8-4a66-8aaf-398b4847188b",
   "metadata": {
    "language": "sql",
    "name": "cell8"
   },
   "outputs": [],
   "source": "SHOW TABLES like 'traffic'; -- verify sos is enabled on the table",
   "execution_count": null
  },
  {
   "cell_type": "markdown",
   "id": "fdc0431f-4416-431e-9b87-ba3326e00225",
   "metadata": {
    "collapsed": false,
    "name": "cell9"
   },
   "source": [
    "We can also estimate the cost of the SOS on the UUID equality filter."
   ]
  },
  {
   "cell_type": "code",
   "execution_count": null,
   "id": "449c7245-73af-499e-b1ee-4f8f912b2ed8",
   "metadata": {
    "codeCollapsed": false,
    "collapsed": false,
    "language": "sql",
    "name": "cell10"
   },
   "outputs": [],
   "source": [
    "SELECT \n",
    "    SYSTEM$ESTIMATE_SEARCH_OPTIMIZATION_COSTS('traffic', 'EQUALITY(uuid)')\n",
    "        AS estimate_for_columns_with_search_optimization;"
   ]
  },
  {
   "cell_type": "markdown",
   "id": "22e79b94-23bd-49a6-b19e-bbfa7b01499a",
   "metadata": {
    "collapsed": false,
    "name": "cell11"
   },
   "source": "### 5.3 Rerun the Query\n\nWe need to warm the new warehouse WH_SUMMIT25_PERF_SOS first by running query 01 and 02 similar to base workload on WH_SUMMIT25_PERF_BASE.\n\nThen rerun Query 03 on warehouse WH_SUMMIT25_PERF_SOS. \n"
  },
  {
   "cell_type": "code",
   "execution_count": null,
   "id": "0c4a8822-476a-4b38-91ee-ec6fc629a7e9",
   "metadata": {
    "language": "sql",
    "name": "cell12"
   },
   "outputs": [],
   "source": "USE WAREHOUSE WH_SUMMIT25_PERF_SOS;\n\n-- rerun query 01 and 02 to warm the new warehouse WH_SUMMIT25_PERF_SOS\nwith age_20_to_30 as ( -- BASE WORKLOAD QUERY - 01\n    select distinct uuid\n    from user_profile\n    where question_id = 3 -- DOB question\n        and value::date between dateadd(year, -30, current_date) \n            and dateadd(year, -20, current_date)\n),\ngender_male as (\n    select distinct uuid\n    from user_profile\n    where question_id = 4 -- Gender question\n        and value::string = 'M'\n),\nincome_50K_to_100K as (\n    select distinct uuid\n    from user_profile\n    where question_id = 10 -- Income question\n        and value::int between 50000 and 100000\n)\nselect\n    c.name,\n    url,\n    count(1) as visits\nfrom traffic t\njoin category c on (\n    c.id = t.category_id\n)\njoin age_20_to_30 a on (\n    a.uuid = t.uuid\n)\njoin gender_male g on (\n    g.uuid = t.uuid\n)\njoin income_50K_to_100K i on (\n    i.uuid = t.uuid\n)\nwhere\n    t.timestamp between '2025-01-01' and '2025-02-01'\ngroup by all\nqualify row_number() over (\n    partition by c.name order by visits desc\n) <= 100\norder by c.name, visits desc;\n\nWITH url_stats AS ( -- BASE WORKLOAD QUERY - 02\n  SELECT\n    c.name AS category_name,\n    t.url,\n    COUNT(DISTINCT t.uuid) AS unique_visitors,\n    COUNT(*) AS total_visits,\n    RANK() OVER (\n      PARTITION BY c.name\n      ORDER BY\n        COUNT(*) DESC\n    ) AS rank_in_category\n  FROM\n    traffic AS t\n    JOIN category AS c ON t.category_id = c.id\n  WHERE\n    t.timestamp between '2025-01-01' and '2025-02-01'\n  GROUP BY\n    c.name,\n    t.url\n)\nSELECT\n  category_name,\n  url,\n  unique_visitors,\n  total_visits,\n  rank_in_category\nFROM\n  url_stats\nWHERE\n  rank_in_category <= 10\nORDER BY\n  category_name,\n  rank_in_category;\n\nWITH user_profile_age as ( -- BASE WORKLOAD QUERY - 03\n    select \n        uuid,\n        timestampdiff(year, value::date, current_date()) as value\n    from user_profile\n    where question_id = 3\n),\nuser_profile_gender as (\n    select \n        uuid,\n        value::string as value\n    from user_profile\n    where question_id = 4\n),\nuser_lookup AS (\n  SELECT\n    t.uuid,\n    age.value AS gender,\n    gender.value AS age,\n    COUNT(DISTINCT t.url) AS visited_sites,\n    MIN(t.timestamp) AS first_visit,\n    MAX(t.timestamp) AS last_visit\n  FROM\n    traffic AS t\n    LEFT JOIN user_profile_age AS age ON t.uuid = age.uuid\n    LEFT JOIN user_profile_gender AS gender ON t.uuid = gender.uuid\n  WHERE\n    t.timestamp between '2025-01-01' and '2025-02-01'\n  GROUP BY ALL\n)\nSELECT\n  *\nFROM\n  user_lookup\nWHERE\n  --NOT uuid IS NULL\n  uuid in ('64d91ddc-cad4-4bc3-993e-53f050984738', '2d738ba3-9c32-4fe5-92ba-e8fdb3f2f6e6',\n  'a628176d-dec0-453d-8f7a-33d4682bd26f','a9adda58-5762-4e1b-85b8-02b4eb5e9970',\n  '93d96769-4cc8-4521-9cfb-8b81472f70e5','cb4645ef-454c-4af3-9fcd-24c48d4ad0be',\n  'aabf7d37-51ee-4ce6-abc7-c07c2533a0b7','c75a4784-eddb-4e9c-b3d5-89115855bce9',\n  '9484fac2-fdf6-4fa7-8084-149ec921f1af','34c8e1e4-d05e-4d71-af07-e53ec3a0d87c',\n  '6a524226-0c88-4874-bdcf-a489d3b7707b','67617602-28a7-4cc4-802c-a0a871d3a967',\n  '1da9d743-c674-4dd8-8c41-66b45d877afb','6c0514c7-a44e-4e14-96cd-a5f93bf9f00c'\n  )\nORDER BY\n  last_visit DESC;"
  },
  {
   "cell_type": "markdown",
   "id": "fe047c39-63c9-4f18-9b80-c1417c090818",
   "metadata": {
    "collapsed": false,
    "name": "cell13"
   },
   "source": [
    "Check the query profile and see if SOS is used or not. Why or why not?"
   ]
  },
  {
   "cell_type": "markdown",
   "id": "84507875-0c32-448d-8e59-cd59129f8b35",
   "metadata": {
    "collapsed": false,
    "name": "cell14"
   },
   "source": "### 5.4 Compare Performance\n\nNow let's compare the query performance between WH_SUMMIT25_PERF_BASE (without SOS) and WH_SUMMIT25_PERF_SOS(with SOS). \n"
  },
  {
   "cell_type": "code",
   "execution_count": null,
   "id": "6ea533dd-0d68-490a-91fc-20669b6e385b",
   "metadata": {
    "language": "sql",
    "name": "cell15"
   },
   "outputs": [],
   "source": [
    "-- for operations & analysis\n",
    "USE WAREHOUSE WH_SUMMIT25_PERF_OPS; \n",
    "\n",
    "-- compare query performance on SOS\n",
    "select \n",
    "    warehouse_name,\n",
    "    query_text, \n",
    "    end_time,\n",
    "    total_elapsed_time\n",
    "FROM TABLE(INFORMATION_SCHEMA.QUERY_HISTORY(RESULT_LIMIT =>10000))   \n",
    "where \n",
    "    execution_time > 0\n",
    "    and query_text ilike '%BASE WORKLOAD QUERY - 03%'\n",
    "    and warehouse_name in ( 'WH_SUMMIT25_PERF_BASE', 'WH_SUMMIT25_PERF_SOS')\n",
    "    and error_code is null \n",
    "    and query_type = 'SELECT'\n",
    "qualify row_number() over (partition by warehouse_name order by end_time desc) = 1\n",
    ";"
   ]
  },
  {
   "cell_type": "markdown",
   "id": "ca0fde8b-46a5-4802-a25b-1a2eec7dc29c",
   "metadata": {
    "collapsed": false,
    "name": "cell16"
   },
   "source": "Based on total_elapsed_time, you can quantify improvements from SOS.  SOS helps prune micro-partitions, improving query performance for highly selective filters.\n\n### 5.5 Compare Costs\n\nNext, let's compare the cost of query execution with and without SOS, also check the cost of SOS service\n"
  },
  {
   "cell_type": "code",
   "execution_count": null,
   "id": "154d3e53-3489-497e-aadf-1a769f172f89",
   "metadata": {
    "language": "sql",
    "name": "cell17"
   },
   "outputs": [],
   "source": "-- compare cost of sos \n-- SEARCH_OPTIMIZATION_HISTORY in account_usage views and information schema\n-- comparing cost, note WH_SUMMIT25_PERF_BASE contains more other queries\nselect \n    WAREHOUSE_NAME,\n    SUM(CREDITS_USED)\nfrom table(information_schema.warehouse_metering_history(\n    dateadd('days', -10, current_date())\n))\nwhere WAREHOUSE_NAME in ( 'WH_SUMMIT25_PERF_BASE', 'WH_SUMMIT25_PERF_SOS')\nGROUP BY 1;"
  },
  {
   "cell_type": "code",
   "id": "0bf6dec9-2aea-4c6e-8d5a-5ea14f6ab380",
   "metadata": {
    "language": "sql",
    "name": "cell18"
   },
   "outputs": [],
   "source": "-- check the cost of SOS service, may be empty due to latency (you can rerun after a minute or so) or 0 if the cost is below 0.001\n-- SEARCH_OPTIMIZATION_HISTORY in account_usage views and information schema\nselect \n    credits_used\nfrom table(\n    information_schema.search_optimization_history (\n        date_range_start => dateadd(D, -7, current_date),\n        date_range_end => current_date,\n        table_name => 'SQL_PERF_OPTIMIZATION.PUBLIC.TRAFFIC'\n    )\n);",
   "execution_count": null
  }
 ]
}