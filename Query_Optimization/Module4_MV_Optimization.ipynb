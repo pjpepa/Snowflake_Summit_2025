{
 "metadata": {
  "kernelspec": {
   "display_name": "Streamlit Notebook",
   "name": "streamlit"
  },
  "lastEditStatus": {
   "notebookId": "o2ahqjc646ccijipjhej",
   "authorId": "7637982313132",
   "authorName": "USER",
   "authorEmail": "",
   "sessionId": "8918e919-7bdc-415d-8eac-fc045406178f",
   "lastEditTime": 1747940369161
  }
 },
 "nbformat_minor": 5,
 "nbformat": 4,
 "cells": [
  {
   "cell_type": "markdown",
   "id": "ac26c734-58bd-4054-9600-717387c6e60a",
   "metadata": {
    "collapsed": false,
    "name": "cell1"
   },
   "source": "## Module 4. Materialized Views for Performance Tuning \n\nModule 4 is to focus on exploring and discovering how a query can benefit from Materialized View.\n\n### 4.1 Identify MV Candidates\n\nIn this step, we will explore on how to determine if Materialized View can help in improvement performance of our queries. MV is mostly helpful on expensive aggregations. There are many ways to decide on expensive aggregation. Here we use a simple way based on the number of rows of aggregation output for the sake of time. You can also make decision based on spillage depending on your workloads and needs."
  },
  {
   "cell_type": "code",
   "execution_count": null,
   "id": "8d50cbf4-0c8d-4950-86cb-114990437ac9",
   "metadata": {
    "language": "sql",
    "name": "cell2"
   },
   "outputs": [],
   "source": "alter session set use_cached_result = false;  -- disable result caching\n\n-- Expensive aggregration with output rows \nSELECT\n    query_tag,\n    query_id,\n    start_time,\n    operator_id,\n    operator_type,\n    operator_statistics:output_rows agg_out_rows,\n    operator_attributes,\n    operator_attributes:grouping_keys grouping_keys,\n    operator_statistics:spilling:bytes_spilled_local_storage as bytes_spilled_local_storage\nFROM\n    base_query_stats qs  \nwhere \n    operator_type = 'Aggregate'\n    and ( \n        grouping_keys ilike '%t.%' or \n        grouping_keys ilike '%traffic.%' \n    )\n    and query_tag like 'BASE WORKLOAD QUERY%'\nqualify row_number() over (partition by query_tag order by start_time desc) = 1\norder by agg_out_rows desc, query_tag\n;"
  },
  {
   "cell_type": "markdown",
   "id": "cf45a831-23d4-428c-9f26-faa4c1caab29",
   "metadata": {
    "collapsed": false,
    "name": "cell3"
   },
   "source": "We can see that query 09 has the most number of aggregation output, which is considered as a good potential candidate that may benefit from MV.\n\n```json\n{\n  \"functions\": [\n    \"COUNT(DISTINCT TO_CHAR(T.TIMESTAMP, 'YYYYMM'))\",\n    \"SUM(COUNT(T.URL))\",\n    \"COUNT(COUNT(T.URL))\"\n  ],\n  \"grouping_keys\": [\n    \"T.USER_ID\"\n  ]\n}\n```\n### 4.2 Design Materialized View\n\nLet's revisit what query 09 does. \n\n```sql\nWITH user_sessions AS ( -- BASE WORKLOAD QUERY - 09\n  SELECT\n    user_id,\n    TO_CHAR (timestamp, 'YYYYMM') AS visit_month,\n    COUNT(*) AS total_visits,\n    COUNT(t.url) AS pages_visited\n  FROM\n    traffic AS t\n  WHERE visit_month between '202308' and '202412'\n    and user_id BETWEEN 1000000 AND 2000000\n  GROUP BY ALL\n)\n  SELECT\n    s.user_id,\n    COUNT(DISTINCT visit_month) AS total_visit_month,\n    AVG(pages_visited) AS avg_pages_per_session --,\n  FROM\n    user_sessions s\n  GROUP BY\n    s.user_id\n    ;\n```\n\nBased on the expensive aggregation, create a materialized view based on the aggregation in Query 09."
  },
  {
   "cell_type": "code",
   "execution_count": null,
   "id": "f39b563c-e37a-4f58-8a11-ad2ce16500b4",
   "metadata": {
    "language": "sql",
    "name": "cell4"
   },
   "outputs": [],
   "source": [
    "-- use large warehouse to speed up the MV creation\n",
    "USE WAREHOUSE WH_SUMMIT25_PERF_OPS;\n",
    "\n",
    "CREATE OR REPLACE MATERIALIZED VIEW MV_TRAFFIC_AGGREGATION AS\n",
    "SELECT\n",
    "  TO_CHAR (timestamp, 'YYYYMM') AS visit_month,\n",
    "  user_id,\n",
    "  COUNT(*) AS total_visits,\n",
    "  COUNT( url) AS unique_pages\n",
    "FROM\n",
    "  traffic\n",
    "WHERE\n",
    "  user_id BETWEEN 1000000 AND 2000000\n",
    "GROUP BY 1,2;"
   ]
  },
  {
   "cell_type": "code",
   "execution_count": null,
   "id": "e7948448-a0ff-4cfe-8658-6b0f8d7214f5",
   "metadata": {
    "language": "sql",
    "name": "cell5"
   },
   "outputs": [],
   "source": [
    "-- Check on behind_by column on how far the MV refresh is behind by \n",
    "SHOW MATERIALIZED VIEWS LIKE 'MV_TRAFFIC_AGGREGATION';"
   ]
  },
  {
   "cell_type": "markdown",
   "id": "981b5b91-a6e7-452c-8c1a-a9db6deddc69",
   "metadata": {
    "collapsed": false,
    "name": "cell6"
   },
   "source": "### 4.3 Rerun Query on WH_SUMMIT25_PERF_MV\n\nWe need to warm the new warehouse WH_SUMMIT25_PERF_MV first by running query 01 and 02 similar to base workload on WH_SUMMIT25_PERF_BASE.\n\nThen Rerun the query 09 on MV warehouse WH_SUMMIT25_PERF_MV, "
  },
  {
   "cell_type": "code",
   "execution_count": null,
   "id": "eeb5b843-c1cc-4916-9fc9-c33c0689464b",
   "metadata": {
    "language": "sql",
    "name": "cell7"
   },
   "outputs": [],
   "source": "-- Switch to warehouse WH_SUMMIT25_PERF_MV for easier performance and cost comparison\nUSE WAREHOUSE WH_SUMMIT25_PERF_MV; \n\n-- rerun query 01 and 02 to warm the new warehouse WH_SUMMIT25_PERF_MV\nwith age_20_to_30 as ( -- BASE WORKLOAD QUERY - 01\n    select distinct uuid\n    from user_profile\n    where question_id = 3 -- DOB question\n        and value::date between dateadd(year, -30, current_date) \n            and dateadd(year, -20, current_date)\n),\ngender_male as (\n    select distinct uuid\n    from user_profile\n    where question_id = 4 -- Gender question\n        and value::string = 'M'\n),\nincome_50K_to_100K as (\n    select distinct uuid\n    from user_profile\n    where question_id = 10 -- Income question\n        and value::int between 50000 and 100000\n)\nselect\n    c.name,\n    url,\n    count(1) as visits\nfrom traffic t\njoin category c on (\n    c.id = t.category_id\n)\njoin age_20_to_30 a on (\n    a.uuid = t.uuid\n)\njoin gender_male g on (\n    g.uuid = t.uuid\n)\njoin income_50K_to_100K i on (\n    i.uuid = t.uuid\n)\nwhere\n    t.timestamp between '2025-01-01' and '2025-02-01'\ngroup by all\nqualify row_number() over (\n    partition by c.name order by visits desc\n) <= 100\norder by c.name, visits desc;\n\nWITH url_stats AS ( -- BASE WORKLOAD QUERY - 02\n  SELECT\n    c.name AS category_name,\n    t.url,\n    COUNT(DISTINCT t.uuid) AS unique_visitors,\n    COUNT(*) AS total_visits,\n    RANK() OVER (\n      PARTITION BY c.name\n      ORDER BY\n        COUNT(*) DESC\n    ) AS rank_in_category\n  FROM\n    traffic AS t\n    JOIN category AS c ON t.category_id = c.id\n  WHERE\n    t.timestamp between '2025-01-01' and '2025-02-01'\n  GROUP BY\n    c.name,\n    t.url\n)\nSELECT\n  category_name,\n  url,\n  unique_visitors,\n  total_visits,\n  rank_in_category\nFROM\n  url_stats\nWHERE\n  rank_in_category <= 10\nORDER BY\n  category_name,\n  rank_in_category;\n  \n-- rerun query 09 for MV \nWITH user_sessions AS ( -- MV WORKLOAD QUERY - 09\n  SELECT\n    user_id,\n    TO_CHAR (timestamp, 'YYYYMM') AS visit_month,\n    COUNT(*) AS total_visits,\n    COUNT(t.url) AS pages_visited\n  FROM\n    traffic AS t\n  WHERE visit_month between '202308' and '202412'\n    and user_id BETWEEN 1000000 AND 2000000\n  GROUP BY ALL\n)\n  SELECT\n    s.user_id,\n    COUNT(DISTINCT visit_month) AS total_visit_month,\n    AVG(pages_visited) AS avg_pages_per_session \n  FROM\n    user_sessions s\n  GROUP BY\n    s.user_id\n    ;"
  },
  {
   "cell_type": "markdown",
   "id": "285c5357-a62b-4e24-89ab-57c0eb468ff4",
   "metadata": {
    "collapsed": false,
    "name": "cell8"
   },
   "source": "After rerun the above query 09, Go to query history and identify the rerun query, and check query profile and see if the MV has been used. Why or Why Not?\n\n( Note: Check the screenshots in the guide if you need more instructions on how to get to the query profile. )\n\n### 4.4 Compare performance\n\nIn this step, we will collect performance metrics and compare performance of MV optimization."
  },
  {
   "cell_type": "code",
   "execution_count": null,
   "id": "fdc0431f-4416-431e-9b87-ba3326e00225",
   "metadata": {
    "language": "sql",
    "name": "cell9"
   },
   "outputs": [],
   "source": [
    "USE WAREHOUSE WH_SUMMIT25_PERF_OPS;\n",
    "\n",
    "-- compare performance\n",
    "select \n",
    "    warehouse_name,\n",
    "    REGEXP_SUBSTR(query_text, 'BASE WORKLOAD QUERY - [0-9]{2}') as my_tag,\n",
    "    total_elapsed_time\n",
    "FROM TABLE(INFORMATION_SCHEMA.QUERY_HISTORY(RESULT_LIMIT =>10000))   \n",
    "where \n",
    "    execution_time > 0\n",
    "    and warehouse_name = 'WH_SUMMIT25_PERF_BASE'\n",
    "    and error_code is null \n",
    "    and query_type = 'SELECT'\n",
    "    and query_text ilike '%BASE WORKLOAD QUERY - 09%'\n",
    "qualify row_number() over (partition by my_tag order by start_time desc) = 1\n",
    "\n",
    "union all\n",
    "\n",
    "select \n",
    "    warehouse_name,\n",
    "    REGEXP_SUBSTR(query_text, 'MV WORKLOAD QUERY - [0-9]{2}') as my_tag,\n",
    "    total_elapsed_time\n",
    "FROM TABLE(INFORMATION_SCHEMA.QUERY_HISTORY(RESULT_LIMIT =>10000))   \n",
    "where \n",
    "    execution_time > 0\n",
    "    and warehouse_name = 'WH_SUMMIT25_PERF_MV'\n",
    "    and error_code is null \n",
    "    and query_type = 'SELECT'\n",
    "    and query_text ilike '%MV WORKLOAD QUERY - 09%'\n",
    "qualify row_number() over (partition by my_tag order by start_time desc) = 1\n",
    ";"
   ]
  },
  {
   "cell_type": "markdown",
   "id": "449c7245-73af-499e-b1ee-4f8f912b2ed8",
   "metadata": {
    "collapsed": false,
    "name": "cell10"
   },
   "source": "### 4.5 Compare Costs\n\nIn this step, we will compare Costs. \n- Compare the cost metrics of `WH_SUMMIT25_PERF_BASE` and `WH_SUMMIT25_PERF_MV`. \n- Discover the benefits of the materialized view (reduced execution time) and its associated storage costs."
  },
  {
   "cell_type": "code",
   "execution_count": null,
   "id": "22e79b94-23bd-49a6-b19e-bbfa7b01499a",
   "metadata": {
    "language": "sql",
    "name": "cell11"
   },
   "outputs": [],
   "source": "-- comparing cost, note WH_SUMMIT25_PERF_BASE contains more other queries\nselect \n    WAREHOUSE_NAME,\n    SUM(CREDITS_USED)\nfrom table(information_schema.warehouse_metering_history(\n    dateadd('days', -10, current_date())\n))\nwhere WAREHOUSE_NAME in ( 'WH_SUMMIT25_PERF_BASE', 'WH_SUMMIT25_PERF_MV')\ngroup by 1;"
  },
  {
   "cell_type": "markdown",
   "id": "2fc006ad-e692-4f5f-bcab-a832e36190d4",
   "metadata": {
    "name": "cell13",
    "collapsed": false
   },
   "source": "You can also use the following query to check the MV refresh history and its associated costs. However, due to latency or minimal cost (i.e., less than 0.01), you might not be able to see it in this lab."
  },
  {
   "cell_type": "code",
   "execution_count": null,
   "id": "0c4a8822-476a-4b38-91ee-ec6fc629a7e9",
   "metadata": {
    "language": "sql",
    "name": "cell12"
   },
   "outputs": [],
   "source": [
    "-- MV refresh cost, there might be latency  \n",
    "select \n",
    "    *\n",
    "from table(\n",
    "    information_schema.materialized_view_refresh_history(\n",
    "        date_range_start => dateadd(h, -10, current_date),\n",
    "        materialized_view_name => 'SQL_PERF_OPTIMIZATION.PUBLIC.MV_TRAFFIC_AGGREGATION'\n",
    "    )\n",
    ")\n",
    ";"
   ]
  }
 ]
}