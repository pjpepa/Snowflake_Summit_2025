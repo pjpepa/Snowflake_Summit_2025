{
 "metadata": {
  "kernelspec": {
   "display_name": "Streamlit Notebook",
   "name": "streamlit"
  },
  "lastEditStatus": {
   "notebookId": "k66vleccsew4qndfb262",
   "authorId": "7637982313132",
   "authorName": "USER",
   "authorEmail": "",
   "sessionId": "86a1b291-4cd4-44bb-9487-9541f873c317",
   "lastEditTime": 1747939950124
  }
 },
 "nbformat_minor": 5,
 "nbformat": 4,
 "cells": [
  {
   "cell_type": "markdown",
   "id": "d0195feb-838a-479f-8a03-fe1ee0dc5e9b",
   "metadata": {
    "name": "cell1",
    "collapsed": false
   },
   "source": "## Module 7. Explore JOIN Skewness [Bonus]\n\nAs usual, let's disable query result cache."
  },
  {
   "cell_type": "code",
   "execution_count": null,
   "id": "05ea1ecb-a9b2-4a8a-8cf0-c6fd9bae3dbc",
   "metadata": {
    "language": "sql",
    "name": "cell2"
   },
   "outputs": [],
   "source": [
    "ALTER SESSION SET USE_CACHED_RESULT = FALSE;"
   ]
  },
  {
   "cell_type": "markdown",
   "id": "21c133fd-8fb6-41fa-84b3-b88801db47a4",
   "metadata": {
    "name": "cell3",
    "collapsed": false
   },
   "source": "### 7.1 Background\n\nThere are three main types of skewness that can happen during a query execution that can slow down query performance:\n\n1. Data distribution skewness\n\nThis can happen when the underlying data for a table is not evenly distributed across multiple files. Different workers can read different amounts of data after the TableScan operator, which can cause uneven processing between workers while executing a query.\n\n2. Join key skewness\n\nThis can happen when we try to join two tables with data unevenly distributed based on the join key condition. Since the HashJoin operator distributes data during the processing based on the joining key(s), different workers will receive different amounts of data in such a case, and can result in processing skewness.\n\n3.  Probe side skewness\n\nThis happens when the table that is put on the Probe side of the join requires a small number of file scans (this can be due to a small table or a large table with restrictive filtering conditions). Since one file/partition can only be read by a single worker instance, the number of worker instances involved in the query processing will be limited to the number of instances used in the table scan. This skewness can carry to the downstream operators of the query processing if its path does not become the Build side on later joins( i.e., to reuse the same worker without redistribution of the data), hence can result in processing skewness throughout the whole process.\n\nIn this module, we will focus on the third scenario mentioned above.\n"
  },
  {
   "cell_type": "markdown",
   "id": "2e79e3df-475b-4833-9b34-75c709218539",
   "metadata": {
    "collapsed": false,
    "name": "cell4"
   },
   "source": "### 7.2 Prepare the data\n\nPlease run the following scripts to get the data poppulated."
  },
  {
   "cell_type": "code",
   "execution_count": null,
   "id": "8d50cbf4-0c8d-4950-86cb-114990437ac9",
   "metadata": {
    "language": "sql",
    "name": "cell5"
   },
   "outputs": [],
   "source": [
    "use warehouse WH_SUMMIT25_PERF_OPS;\n",
    "\n",
    "create or replace table t1 (a int, b varchar, c timestamp)\n",
    "as \n",
    "select\n",
    "    uniform(1, 1000, random()),\n",
    "    randstr(uniform(1, 10, random()), random()), \n",
    "    current_timestamp\n",
    "from table(generator(rowcount => 20000));\n",
    "\n",
    "create or replace table t2 (a int, b varchar, c timestamp)\n",
    "as \n",
    "select\n",
    "    uniform(1, 1000, random()) as a,\n",
    "    randstr(uniform(1, 50, random()), random()), \n",
    "    current_timestamp\n",
    "from table(generator(rowcount => 50000))\n",
    "order by a\n",
    ";\n",
    "\n",
    "create or replace table t3 (a int, b varchar, c timestamp)\n",
    "as \n",
    "select\n",
    "    uniform(1, 1000, random()),\n",
    "    randstr(uniform(1, 1000, random()), random()), \n",
    "    current_timestamp\n",
    "from table(generator(rowcount => 10000));"
   ]
  },
  {
   "cell_type": "markdown",
   "id": "d49758ac-17c1-43f0-b10e-d5d7aa84b593",
   "metadata": {
    "collapsed": false,
    "name": "cell6"
   },
   "source": "### 7.3 Execute the query and analyze the problem"
  },
  {
   "cell_type": "code",
   "execution_count": null,
   "id": "8ff1392e-cd7c-42e9-b97a-d58589c4a96f",
   "metadata": {
    "name": "cell7",
    "language": "sql"
   },
   "outputs": [],
   "source": [
    "use warehouse WH_SUMMIT25_PERF_SKEWNESS;\n",
    "\n",
    "select * from t1 -- SKEWNESS QUERY BEFORE\n",
    "join t2 on (t1.a = t2.a)\n",
    "join t3 on (t1.a = t3.a)\n",
    "where t1.a between 1 and 800\n",
    ";"
   ]
  },
  {
   "cell_type": "markdown",
   "id": "77f55cce-f05e-439c-9897-feda34123220",
   "metadata": {
    "name": "cell8"
   },
   "source": [
    "Please follow the quickstart guide on how to check the query profile details."
   ]
  },
  {
   "cell_type": "markdown",
   "id": "64f36085-0655-4b98-b763-d385cc32946f",
   "metadata": {
    "name": "cell9",
    "collapsed": false
   },
   "source": "### 7.4 The solution\n\nPlease refer to the quickstart guide on explanation about the solution for this issue.\n\nThen you can just run the solution query below."
  },
  {
   "cell_type": "code",
   "execution_count": null,
   "id": "7aa6b017-5aea-4f0b-9400-7b613a81af12",
   "metadata": {
    "name": "cell10",
    "language": "sql"
   },
   "outputs": [],
   "source": [
    "use warehouse WH_SUMMIT25_PERF_SKEWNESS;\n",
    "\n",
    "select * from ( -- SKEWNESS QUERY AFTER\n",
    "    select * from t1 order by random()\n",
    ") t1 \n",
    "join t2 on (t1.a = t2.a)\n",
    "join t3 on (t1.a = t3.a)\n",
    "where t1.a between 1 and 800\n",
    ";"
   ]
  },
  {
   "cell_type": "markdown",
   "id": "0099926d-cad2-47b3-b677-1d4ec03b600a",
   "metadata": {
    "collapsed": false,
    "name": "cell11"
   },
   "source": "### 7.5 Let's check the result"
  },
  {
   "cell_type": "code",
   "execution_count": null,
   "id": "b72a92f9-5a06-4230-9a9f-00a0fa3d6970",
   "metadata": {
    "language": "sql",
    "name": "cell12"
   },
   "outputs": [],
   "source": [
    "USE WAREHOUSE WH_SUMMIT25_PERF_OPS;\n",
    "\n",
    "select \n",
    "    query_id,\n",
    "    query_text,\n",
    "    'SKEWNESS QUERY BEFORE' as query_tag,\n",
    "    start_time,\n",
    "    round(execution_time/1000, 2) as execution_time_sec,\n",
    "FROM TABLE(\n",
    "    INFORMATION_SCHEMA.QUERY_HISTORY_BY_WAREHOUSE(\n",
    "        WAREHOUSE_NAME =>'WH_SUMMIT25_PERF_SKEWNESS'\n",
    "    )\n",
    ")  \n",
    "where\n",
    "    execution_time > 0\n",
    "    and query_text like '%SKEWNESS QUERY BEFORE%'\n",
    "    and error_code is null \n",
    "    and query_type = 'SELECT'\n",
    "qualify row_number() over (partition by query_tag order by start_time desc) = 1\n",
    "\n",
    "union all\n",
    "\n",
    "select \n",
    "    query_id,\n",
    "    query_text,\n",
    "    'SKEWNESS QUERY AFTER' as query_tag,\n",
    "    start_time,\n",
    "    round(execution_time/1000, 2) as execution_time_sec,\n",
    "FROM TABLE(\n",
    "    INFORMATION_SCHEMA.QUERY_HISTORY_BY_WAREHOUSE(\n",
    "        WAREHOUSE_NAME =>'WH_SUMMIT25_PERF_SKEWNESS'\n",
    "    )\n",
    ")  \n",
    "where\n",
    "    execution_time > 0\n",
    "    and query_text like '%SKEWNESS QUERY AFTER%'\n",
    "    and error_code is null \n",
    "    and query_type = 'SELECT'\n",
    "qualify row_number() over (partition by query_tag order by start_time desc) = 1\n",
    "\n",
    "order by execution_time_sec;"
   ]
  },
  {
   "cell_type": "markdown",
   "id": "046e0384-578a-470b-a4f4-7e8d24a54539",
   "metadata": {
    "collapsed": false,
    "name": "cell13"
   },
   "source": [
    "We can see that we have improved the query performance further by saving a few more seconds on this sample data."
   ]
  }
 ]
}