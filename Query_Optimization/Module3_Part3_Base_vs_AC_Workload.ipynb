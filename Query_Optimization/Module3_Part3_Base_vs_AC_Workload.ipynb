{
 "metadata": {
  "kernelspec": {
   "display_name": "Streamlit Notebook",
   "name": "streamlit"
  },
  "lastEditStatus": {
   "notebookId": "np77peem3a75oiextblg",
   "authorId": "7637982313132",
   "authorName": "USER",
   "authorEmail": "",
   "sessionId": "2d831f4b-a271-44fa-8cb3-d5dd8f49f0d4",
   "lastEditTime": 1747940265410
  }
 },
 "nbformat_minor": 5,
 "nbformat": 4,
 "cells": [
  {
   "cell_type": "markdown",
   "id": "cc997887-2450-4f09-a9af-dec60b402e84",
   "metadata": {
    "collapsed": false,
    "name": "cell1"
   },
   "source": "### 3.5 Comparing performance \n\nNow we have just executed two workloads, one before the Auto Clustering (AC) enablement on the `TRAFFIC` table, and one after the enablement on `TRAFFIC_CLUSTERED` table. Let's compare the result and see if there are any improvements.\n\nRun the following query, which will scan the query history by Warehouse Name, extract each of the query tag's latest query ID and compare them before and after the AC change."
  },
  {
   "cell_type": "code",
   "execution_count": null,
   "id": "8d50cbf4-0c8d-4950-86cb-114990437ac9",
   "metadata": {
    "language": "sql",
    "name": "cell2"
   },
   "outputs": [],
   "source": [
    "-- for operations & analysis\n",
    "use warehouse WH_SUMMIT25_PERF_OPS; \n",
    "\n",
    "with base_queries as (\n",
    "    select \n",
    "        query_id,\n",
    "        warehouse_name,\n",
    "        REGEXP_SUBSTR(REGEXP_SUBSTR(query_text, 'BASE WORKLOAD QUERY - [0-9]{2}'), '[0-9]{2}') as my_tag,\n",
    "        query_tag, \n",
    "        start_time,\n",
    "        round(execution_time/1000, 2) as execution_time_sec,\n",
    "        round(execution_time/1000/3600 * 8, 2) as wh_credits\n",
    "    FROM TABLE(\n",
    "        INFORMATION_SCHEMA.QUERY_HISTORY_BY_WAREHOUSE(\n",
    "            WAREHOUSE_NAME =>'WH_SUMMIT25_PERF_BASE'\n",
    "        )\n",
    "    )  \n",
    "    where \n",
    "        execution_time > 0\n",
    "        and query_text like '%BASE WORKLOAD QUERY%'\n",
    "        and error_code is null \n",
    "        and query_type = 'SELECT'\n",
    "    qualify row_number() over(partition by my_tag order by start_time desc) = 1\n",
    "),\n",
    "ac_queries as (\n",
    "    select \n",
    "        query_id,\n",
    "        warehouse_name,\n",
    "        REGEXP_SUBSTR(REGEXP_SUBSTR(query_text, 'AC WORKLOAD QUERY - [0-9]{2}'), '[0-9]{2}') as my_tag,\n",
    "        query_tag, \n",
    "        start_time,\n",
    "        round(execution_time/1000, 2) as execution_time_sec,\n",
    "        round(execution_time/1000/3600 * 8, 2) as wh_credits\n",
    "    FROM TABLE(\n",
    "        INFORMATION_SCHEMA.QUERY_HISTORY_BY_WAREHOUSE(\n",
    "            WAREHOUSE_NAME =>'WH_SUMMIT25_PERF_AC'\n",
    "        )\n",
    "    )\n",
    "    where \n",
    "        execution_time > 0\n",
    "        and query_text like '%AC WORKLOAD QUERY%'\n",
    "        and error_code is null \n",
    "        and query_type = 'SELECT'\n",
    "    qualify row_number() over (partition by my_tag order by start_time desc) = 1\n",
    ")\n",
    "select\n",
    "    b.query_id as base_query_id,\n",
    "    ac.query_id as ac_query_id,\n",
    "    b.my_tag as query_tag,\n",
    "    b.execution_time_sec as base_execution_time_sec,\n",
    "    ac.execution_time_sec as ac_execution_time_sec,\n",
    "    round((base_execution_time_sec-ac_execution_time_sec)/base_execution_time_sec  * 100, 2) || '%' as improvement_rate\n",
    "from base_queries b\n",
    "left join ac_queries ac on (\n",
    "    b.my_tag = ac.my_tag\n",
    ")\n",
    "order by query_tag\n",
    ";"
   ]
  },
  {
   "cell_type": "markdown",
   "id": "80633aa2-7d5c-4fd6-9299-708801a60a05",
   "metadata": {
    "collapsed": false,
    "name": "cell3"
   },
   "source": [
    "We can see that after enabling the Auto Clustering on the `TRAFFIC` table alone (we have not touched the `USER_PROFILE` yet), we have substantial improvements already on all queries we have used in our workload testing.\n",
    "\n",
    "Let's check the stats again using the SP that we created earlier:"
   ]
  },
  {
   "cell_type": "code",
   "execution_count": null,
   "id": "f53ca8c9-06e4-4a59-bb44-db5da5d1ecca",
   "metadata": {
    "language": "sql",
    "name": "cell4"
   },
   "outputs": [],
   "source": [
    "CALL insert_multiple_query_stats(\n",
    "    'WH_SUMMIT25_PERF_AC', \n",
    "    'QUERY_STATS_AC', \n",
    "    'MODULE3_PART2_AC_WORKLOAD'\n",
    ");"
   ]
  },
  {
   "cell_type": "markdown",
   "id": "f478e39e-22b2-48cd-a627-d0ec743ae665",
   "metadata": {
    "collapsed": false,
    "name": "cell5"
   },
   "source": [
    "Now, let's check what's the table scan coverage for the `TRAFFIC_CLUSTERED` table compared with before:"
   ]
  },
  {
   "cell_type": "code",
   "execution_count": null,
   "id": "fc4346b8-2974-4b99-a379-9ec25db86990",
   "metadata": {
    "language": "sql",
    "name": "cell6"
   },
   "outputs": [],
   "source": [
    "with latest_query_each_tag as (\n",
    "    select query_id\n",
    "    from query_stats_ac\n",
    "    qualify row_number() over (partition by query_tag order by start_time desc) = 1\n",
    ")\n",
    "select \n",
    "    distinct\n",
    "    s.query_id,\n",
    "    query_tag,\n",
    "    operator_attributes:table_name::string as table_name,\n",
    "    operator_statistics:pruning:partitions_scanned as mp_scanned,\n",
    "    operator_statistics:pruning:partitions_total as mp_total,\n",
    "    round(mp_scanned/mp_total, 4) * 100 as scan_rate\n",
    "from query_stats_ac s\n",
    "join latest_query_each_tag q on (\n",
    "    s.query_id = q.query_id\n",
    ")\n",
    "where \n",
    "    mp_total is not null\n",
    "    and table_name = 'SQL_PERF_OPTIMIZATION.PUBLIC.TRAFFIC_CLUSTERED'\n",
    "order by query_tag\n",
    ";"
   ]
  },
  {
   "cell_type": "markdown",
   "id": "1c39348e-d48a-4025-b617-3e3d1e5e181d",
   "metadata": {
    "collapsed": false,
    "name": "cell7"
   },
   "source": [
    "As you can see, we have reduced from FULL TABLE SCAN to only scan about 2% of all partitions (with Query 04, 05 and 09 are the exception due to their filtering conditions that covered over 12 months), this helps reduce the query execution time and hence improve overall query performance."
   ]
  },
  {
   "cell_type": "markdown",
   "id": "95bbe885-00ab-4a06-9bb8-9ba91d219bfc",
   "metadata": {
    "collapsed": false,
    "name": "cell8"
   },
   "source": "### 3.6 Cost Analysis\n\nYou can now compare cost between queries without auto clustering, and queries with auto clustering. Since you have not clustered the table `TRAFFIC_CLUSTERED` here so 3rd branch of the union below is not relevant but it could be used in your own workload performance tuning exercise. "
  },
  {
   "cell_type": "code",
   "execution_count": null,
   "id": "0b97e685-553e-4168-b982-fae9b977156f",
   "metadata": {
    "language": "sql",
    "name": "cell9"
   },
   "outputs": [],
   "source": [
    "-- comparing costs\n",
    "select \n",
    "    'Baseline', \n",
    "    sum(credits_used)\n",
    "from table(information_schema.warehouse_metering_history(dateadd('days',-10,current_date())))\n",
    "where \n",
    "    WAREHOUSE_NAME = 'WH_SUMMIT25_PERF_BASE'\n",
    "group by 1\n",
    "\n",
    "union all\n",
    "\n",
    "select \n",
    "    'AC_workload', \n",
    "    sum(credits_used)\n",
    "from table(information_schema.warehouse_metering_history(dateadd('days',-1,current_date())))\n",
    "where \n",
    "    WAREHOUSE_NAME = 'WH_SUMMIT25_PERF_AC'\n",
    "group by 1\n",
    "\n",
    "union all\n",
    "\n",
    "select \n",
    "    'AC_Cost', \n",
    "    sum(credits_used)\n",
    "from table(information_schema.automatic_clustering_history (\n",
    "    date_range_start => dateadd(D, -10, current_date),\n",
    "    date_range_end => current_date,\n",
    "    table_name => 'SQL_PERF_OPTIMIZATION.PUBLIC.TRAFFIC_CLUSTERED')\n",
    ")\n",
    "group by 1\n",
    ";"
   ]
  }
 ]
}